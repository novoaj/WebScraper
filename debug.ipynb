{
 "cells": [
  {
   "cell_type": "code",
   "execution_count": 1,
   "id": "d5d2b33f-8339-4314-aaa6-57c0fe63abdb",
   "metadata": {},
   "outputs": [],
   "source": [
    "import pandas as pd\n",
    "import scrape\n",
    "%load_ext autoreload\n",
    "%autoreload 2\n"
   ]
  },
  {
   "cell_type": "code",
   "execution_count": 2,
   "id": "a4c28080-6a54-4711-ada6-dfc761e7f2d0",
   "metadata": {},
   "outputs": [
    {
     "data": {
      "text/plain": [
       "['A', 'B', 'D', 'C']"
      ]
     },
     "execution_count": 2,
     "metadata": {},
     "output_type": "execute_result"
    }
   ],
   "source": [
    "df = pd.DataFrame([\n",
    "    [0,1,0,1],\n",
    "    [0,0,1,0],\n",
    "    [0,0,0,1],\n",
    "    [0,0,1,0],\n",
    "], index=[\"A\", \"B\", \"C\", \"D\"], columns=[\"A\", \"B\", \"C\", \"D\"])\n",
    "\n",
    "m = scrape.MatrixSearcher(df)\n",
    "m.bfs_search(\"A\")\n",
    "m.order"
   ]
  },
  {
   "cell_type": "code",
   "execution_count": 3,
   "id": "97ec0713-c93d-4e10-bf7f-eb21917c4505",
   "metadata": {},
   "outputs": [
    {
     "name": "stdout",
     "output_type": "stream",
     "text": [
      "['2.txt', '4.txt'] ['M'] M\n"
     ]
    }
   ],
   "source": [
    "f = scrape.FileSearcher()\n",
    "print(f.visit_and_get_children(\"1.txt\"), f.order, f.concat_order())"
   ]
  },
  {
   "cell_type": "code",
   "execution_count": null,
   "id": "b17a7cea-c974-4d7d-9ca2-2fc766be4475",
   "metadata": {},
   "outputs": [],
   "source": []
  },
  {
   "cell_type": "code",
   "execution_count": null,
   "id": "0032c894-2254-4b6c-b83d-5ceda0ed1bc7",
   "metadata": {},
   "outputs": [],
   "source": []
  },
  {
   "cell_type": "code",
   "execution_count": null,
   "id": "11a97d46-ac50-4ae6-84b0-cba893a2e2cc",
   "metadata": {},
   "outputs": [],
   "source": []
  },
  {
   "cell_type": "code",
   "execution_count": 4,
   "id": "44723336-0be1-4493-a4bc-6f305a5cdb89",
   "metadata": {},
   "outputs": [],
   "source": [
    "# reads a given file in the file_nodes directory\n",
    "def readFile(file):\n",
    "    path = \"file_nodes/\" + file\n",
    "    f = open(path)\n",
    "    contents = f.read()\n",
    "    #print(contents)\n",
    "    f.close()\n",
    "    return contents\n",
    "def readContents(contents):\n",
    "    listData = contents.split()\n",
    "    Data = listData[0]\n",
    "    children = listData[1].split(\",\") # list of children\n",
    "    print(Data, children)"
   ]
  },
  {
   "cell_type": "code",
   "execution_count": 5,
   "id": "b494a334-2eb7-445d-b479-24fb3846fb07",
   "metadata": {},
   "outputs": [
    {
     "data": {
      "text/plain": [
       "['M', '2.txt,4.txt']"
      ]
     },
     "execution_count": 5,
     "metadata": {},
     "output_type": "execute_result"
    }
   ],
   "source": [
    "readFile(\"1.txt\").split()"
   ]
  },
  {
   "cell_type": "code",
   "execution_count": 6,
   "id": "075f021e-c1e4-46ab-9e7e-92118106d6d4",
   "metadata": {},
   "outputs": [
    {
     "name": "stdout",
     "output_type": "stream",
     "text": [
      "M ['2.txt', '4.txt']\n"
     ]
    }
   ],
   "source": [
    "readContents(readFile(\"1.txt\"))"
   ]
  },
  {
   "cell_type": "code",
   "execution_count": 7,
   "id": "5ea2b8b9-68a1-438d-8cdd-73bf807cc368",
   "metadata": {},
   "outputs": [],
   "source": [
    "from selenium.webdriver.chrome.options import Options\n",
    "from selenium.webdriver.chrome.service import Service\n",
    "from selenium import webdriver\n",
    "\n",
    "options = Options()\n",
    "options.headless = True\n",
    "service = Service(executable_path=\"chromium.chromedriver\")\n",
    "driver = webdriver.Chrome(options=options, service=service)\n",
    "\n",
    "ws = scrape.WebSearcher(driver)"
   ]
  },
  {
   "cell_type": "code",
   "execution_count": 8,
   "id": "6edd926f-2e4d-4ff3-afc2-5b14ed179285",
   "metadata": {},
   "outputs": [],
   "source": [
    "driver.get(\"https://tyler.caraza-harter.com/cs320/tricky/page2.html\")"
   ]
  },
  {
   "cell_type": "code",
   "execution_count": 9,
   "id": "76a9d101-a09a-4078-b177-720ab901d5a6",
   "metadata": {},
   "outputs": [],
   "source": [
    "from IPython.display import display, Image\n",
    "def show_screen(webDriver):\n",
    "    webDriver.set_window_size(300,200)\n",
    "    webDriver.save_screenshot(\"temp.png\") # save screenshot in temp.png\n",
    "    display(Image(\"temp.png\")) # display image"
   ]
  },
  {
   "cell_type": "code",
   "execution_count": 17,
   "id": "f8a76e5a-0e53-47fb-842d-53b5c4b6c93d",
   "metadata": {},
   "outputs": [
    {
     "name": "stdout",
     "output_type": "stream",
     "text": [
      "['http://34.122.80.213:5000/Node_2.html', 'http://34.122.80.213:5000/Node_4.html']\n",
      "CHECK: http://34.122.80.213:5000/Node_1.html\n",
      "TODO: ['http://34.122.80.213:5000/Node_2.html', 'http://34.122.80.213:5000/Node_4.html']\n",
      "CHECK: http://34.122.80.213:5000/Node_2.html\n",
      "TODO: ['http://34.122.80.213:5000/Node_4.html', 'http://34.122.80.213:5000/Node_3.html', 'http://34.122.80.213:5000/Node_5.html']\n",
      "CHECK: http://34.122.80.213:5000/Node_4.html\n",
      "TODO: ['http://34.122.80.213:5000/Node_3.html', 'http://34.122.80.213:5000/Node_5.html', 'http://34.122.80.213:5000/Node_6.html', 'http://34.122.80.213:5000/Node_7.html']\n",
      "CHECK: http://34.122.80.213:5000/Node_3.html\n",
      "TODO: ['http://34.122.80.213:5000/Node_5.html', 'http://34.122.80.213:5000/Node_6.html', 'http://34.122.80.213:5000/Node_7.html']\n",
      "CHECK: http://34.122.80.213:5000/Node_5.html\n",
      "TODO: ['http://34.122.80.213:5000/Node_6.html', 'http://34.122.80.213:5000/Node_7.html']\n",
      "CHECK: http://34.122.80.213:5000/Node_6.html\n",
      "TODO: ['http://34.122.80.213:5000/Node_7.html']\n",
      "CHECK: http://34.122.80.213:5000/Node_7.html\n",
      "TODO: []\n",
      "    clue   latitude   longitude                          description\n",
      "0      1  43.089034  -89.416128              Picnic Point in Madison\n",
      "1      7  38.105507  126.910613               Silver Beach in Hawaii\n",
      "2      1  65.044901  -16.712836  Shore of a Volcanic Lake in Iceland\n",
      "3      3  48.860945    2.335773                  The Louvre in Paris\n",
      "4      8  51.180315   -1.829659                 Stonehenge in the UK\n",
      "5      5  37.434183 -122.321990      Redwood forest in San Francisco\n",
      "6      2  27.987586   86.925002                 Mt. Everest in Nepal\n",
      "7      4  34.134117 -118.321495                 Hollywood Sign in LA\n",
      "8      5  38.655100   90.061800                 Cahokia Mounds in IL\n",
      "9      9  40.748400   73.985700          Empire State Building in NY\n",
      "10     4  29.975300   31.137600        Great Sphinx of Giza in Egypt\n",
      "11     1  47.557600   10.749800     Neuschwanstein Castle in Germany\n",
      "12     5  38.624700   90.184800        The Gateway Arch in St. Louis\n",
      "13     3  30.328500   35.444400                      Petra in Jordan\n",
      "14     2  41.480800   82.683400                    Cedar Point in OH\n",
      "15     6  43.070010  -89.409450          Quick Trip on Monroe Street\n"
     ]
    },
    {
     "data": {
      "text/plain": [
       "pandas.core.frame.DataFrame"
      ]
     },
     "execution_count": 17,
     "metadata": {},
     "output_type": "execute_result"
    }
   ],
   "source": [
    "import os\n",
    "from selenium.webdriver.chrome.options import Options\n",
    "from selenium.webdriver.chrome.service import Service\n",
    "from selenium import webdriver\n",
    "import scrape\n",
    "\n",
    "# kill previous chrome instance if still around (to conserve memory)\n",
    "os.system(\"pkill -f -9 chromium\")\n",
    "\n",
    "options = Options()\n",
    "options.headless = True\n",
    "service = Service(executable_path=\"chromium.chromedriver\")\n",
    "driver = webdriver.Chrome(options=options, service=service)\n",
    "\n",
    "# TODO: use IP address of your VM\n",
    "start_url = \"http://34.122.80.213:5000/Node_1.html\"\n",
    "\n",
    "s = scrape.WebSearcher(driver)\n",
    "print(s.visit_and_get_children(start_url))\n",
    "\n",
    "s = scrape.WebSearcher(driver)\n",
    "s.bfs_search(start_url)\n",
    "\n",
    "print(s.table())\n",
    "\n"
   ]
  },
  {
   "cell_type": "code",
   "execution_count": 28,
   "id": "9f65a1b0-c61c-4a71-8fea-4c0b741ae57b",
   "metadata": {},
   "outputs": [
    {
     "data": {
      "text/plain": [
       "'1713852459415326'"
      ]
     },
     "execution_count": 28,
     "metadata": {},
     "output_type": "execute_result"
    }
   ],
   "source": [
    "strings = [str(x) for x in list(s.table()[\"clue\"])]\n",
    "''.join(strings)"
   ]
  },
  {
   "cell_type": "code",
   "execution_count": 11,
   "id": "b7fbbe9d-1784-4892-bad5-2fa6a875ff9e",
   "metadata": {},
   "outputs": [
    {
     "ename": "KeyError",
     "evalue": "0",
     "output_type": "error",
     "traceback": [
      "\u001b[0;31m---------------------------------------------------------------------------\u001b[0m",
      "\u001b[0;31mKeyError\u001b[0m                                  Traceback (most recent call last)",
      "File \u001b[0;32m~/.local/lib/python3.10/site-packages/pandas/core/indexes/base.py:3629\u001b[0m, in \u001b[0;36mIndex.get_loc\u001b[0;34m(self, key, method, tolerance)\u001b[0m\n\u001b[1;32m   3628\u001b[0m \u001b[38;5;28;01mtry\u001b[39;00m:\n\u001b[0;32m-> 3629\u001b[0m     \u001b[38;5;28;01mreturn\u001b[39;00m \u001b[38;5;28;43mself\u001b[39;49m\u001b[38;5;241;43m.\u001b[39;49m\u001b[43m_engine\u001b[49m\u001b[38;5;241;43m.\u001b[39;49m\u001b[43mget_loc\u001b[49m\u001b[43m(\u001b[49m\u001b[43mcasted_key\u001b[49m\u001b[43m)\u001b[49m\n\u001b[1;32m   3630\u001b[0m \u001b[38;5;28;01mexcept\u001b[39;00m \u001b[38;5;167;01mKeyError\u001b[39;00m \u001b[38;5;28;01mas\u001b[39;00m err:\n",
      "File \u001b[0;32m~/.local/lib/python3.10/site-packages/pandas/_libs/index.pyx:136\u001b[0m, in \u001b[0;36mpandas._libs.index.IndexEngine.get_loc\u001b[0;34m()\u001b[0m\n",
      "File \u001b[0;32m~/.local/lib/python3.10/site-packages/pandas/_libs/index.pyx:163\u001b[0m, in \u001b[0;36mpandas._libs.index.IndexEngine.get_loc\u001b[0;34m()\u001b[0m\n",
      "File \u001b[0;32mpandas/_libs/hashtable_class_helper.pxi:5198\u001b[0m, in \u001b[0;36mpandas._libs.hashtable.PyObjectHashTable.get_item\u001b[0;34m()\u001b[0m\n",
      "File \u001b[0;32mpandas/_libs/hashtable_class_helper.pxi:5206\u001b[0m, in \u001b[0;36mpandas._libs.hashtable.PyObjectHashTable.get_item\u001b[0;34m()\u001b[0m\n",
      "\u001b[0;31mKeyError\u001b[0m: 0",
      "\nThe above exception was the direct cause of the following exception:\n",
      "\u001b[0;31mKeyError\u001b[0m                                  Traceback (most recent call last)",
      "Cell \u001b[0;32mIn [11], line 1\u001b[0m\n\u001b[0;32m----> 1\u001b[0m \u001b[43ms\u001b[49m\u001b[38;5;241;43m.\u001b[39;49m\u001b[43mtable_fragments\u001b[49m\u001b[43m[\u001b[49m\u001b[38;5;241;43m0\u001b[39;49m\u001b[43m]\u001b[49m\u001b[43m[\u001b[49m\u001b[38;5;241;43m0\u001b[39;49m\u001b[43m]\u001b[49m\n\u001b[1;32m      2\u001b[0m df \u001b[38;5;241m=\u001b[39m pd\u001b[38;5;241m.\u001b[39mconcat(s\u001b[38;5;241m.\u001b[39mtable_fragments[\u001b[38;5;241m0\u001b[39m],ignore_index\u001b[38;5;241m=\u001b[39m\u001b[38;5;28;01mTrue\u001b[39;00m)\n",
      "File \u001b[0;32m~/.local/lib/python3.10/site-packages/pandas/core/frame.py:3505\u001b[0m, in \u001b[0;36mDataFrame.__getitem__\u001b[0;34m(self, key)\u001b[0m\n\u001b[1;32m   3503\u001b[0m \u001b[38;5;28;01mif\u001b[39;00m \u001b[38;5;28mself\u001b[39m\u001b[38;5;241m.\u001b[39mcolumns\u001b[38;5;241m.\u001b[39mnlevels \u001b[38;5;241m>\u001b[39m \u001b[38;5;241m1\u001b[39m:\n\u001b[1;32m   3504\u001b[0m     \u001b[38;5;28;01mreturn\u001b[39;00m \u001b[38;5;28mself\u001b[39m\u001b[38;5;241m.\u001b[39m_getitem_multilevel(key)\n\u001b[0;32m-> 3505\u001b[0m indexer \u001b[38;5;241m=\u001b[39m \u001b[38;5;28;43mself\u001b[39;49m\u001b[38;5;241;43m.\u001b[39;49m\u001b[43mcolumns\u001b[49m\u001b[38;5;241;43m.\u001b[39;49m\u001b[43mget_loc\u001b[49m\u001b[43m(\u001b[49m\u001b[43mkey\u001b[49m\u001b[43m)\u001b[49m\n\u001b[1;32m   3506\u001b[0m \u001b[38;5;28;01mif\u001b[39;00m is_integer(indexer):\n\u001b[1;32m   3507\u001b[0m     indexer \u001b[38;5;241m=\u001b[39m [indexer]\n",
      "File \u001b[0;32m~/.local/lib/python3.10/site-packages/pandas/core/indexes/base.py:3631\u001b[0m, in \u001b[0;36mIndex.get_loc\u001b[0;34m(self, key, method, tolerance)\u001b[0m\n\u001b[1;32m   3629\u001b[0m     \u001b[38;5;28;01mreturn\u001b[39;00m \u001b[38;5;28mself\u001b[39m\u001b[38;5;241m.\u001b[39m_engine\u001b[38;5;241m.\u001b[39mget_loc(casted_key)\n\u001b[1;32m   3630\u001b[0m \u001b[38;5;28;01mexcept\u001b[39;00m \u001b[38;5;167;01mKeyError\u001b[39;00m \u001b[38;5;28;01mas\u001b[39;00m err:\n\u001b[0;32m-> 3631\u001b[0m     \u001b[38;5;28;01mraise\u001b[39;00m \u001b[38;5;167;01mKeyError\u001b[39;00m(key) \u001b[38;5;28;01mfrom\u001b[39;00m \u001b[38;5;21;01merr\u001b[39;00m\n\u001b[1;32m   3632\u001b[0m \u001b[38;5;28;01mexcept\u001b[39;00m \u001b[38;5;167;01mTypeError\u001b[39;00m:\n\u001b[1;32m   3633\u001b[0m     \u001b[38;5;66;03m# If we have a listlike key, _check_indexing_error will raise\u001b[39;00m\n\u001b[1;32m   3634\u001b[0m     \u001b[38;5;66;03m#  InvalidIndexError. Otherwise we fall through and re-raise\u001b[39;00m\n\u001b[1;32m   3635\u001b[0m     \u001b[38;5;66;03m#  the TypeError.\u001b[39;00m\n\u001b[1;32m   3636\u001b[0m     \u001b[38;5;28mself\u001b[39m\u001b[38;5;241m.\u001b[39m_check_indexing_error(key)\n",
      "\u001b[0;31mKeyError\u001b[0m: 0"
     ]
    }
   ],
   "source": [
    "s.table_fragments[0][0]\n",
    "df = pd.concat(s.table_fragments[0],ignore_index=True)\n"
   ]
  },
  {
   "cell_type": "code",
   "execution_count": null,
   "id": "950f4fab-e71c-4353-b5cd-5b0c2204c83b",
   "metadata": {},
   "outputs": [],
   "source": [
    "mySeries = pd.Series(dtype = float)\n",
    "mySeries"
   ]
  },
  {
   "cell_type": "code",
   "execution_count": null,
   "id": "f6eff24d-b667-468c-b50c-1dbd199f314c",
   "metadata": {},
   "outputs": [],
   "source": [
    "f = scrape.FileSearcher()\n",
    "f.bfs_search(\"1.txt\")\n",
    "msg = f.concat_order()\n",
    "msg"
   ]
  },
  {
   "cell_type": "code",
   "execution_count": null,
   "id": "205afbd8-059c-4f28-9726-1337dfabb083",
   "metadata": {},
   "outputs": [],
   "source": [
    "# ws = scrape.WebSearcher(driver)\n",
    "# url = \"http://34.122.80.213:5000/Node_1.html\"\n",
    "# ws.bfs_search(url)\n",
    "# var = pd.read_html((ws.webDriver.find_element(\"id\", \"locations-table\")).get_attribute(\"outerHTML\"))\n",
    "# # print(var)\n",
    "# print(var[0])"
   ]
  },
  {
   "cell_type": "code",
   "execution_count": null,
   "id": "c1efec27-414e-4976-88ba-f1439a1039eb",
   "metadata": {},
   "outputs": [],
   "source": [
    "# ws = scrape.WebSearcher(driver)\n",
    "# ws.bfs_search(url)\n",
    "# # print(ws.visited)\n",
    "# df = pd.DataFrame()\n",
    "# frames = []\n",
    "# #pd.concat(table, ignore_index = True)\n",
    "# # [frames.append(table) for table in ws.table_fragments if table not in frames]\n",
    "# df = pd.concat(ws.table_fragments, ignore_index = True)\n",
    "# df.drop_duplicates(ignore_index = True)"
   ]
  },
  {
   "cell_type": "code",
   "execution_count": null,
   "id": "b0d31704-9d19-45f6-8456-a9c98a2bc7aa",
   "metadata": {},
   "outputs": [],
   "source": []
  },
  {
   "cell_type": "code",
   "execution_count": null,
   "id": "038321ac-812d-4b03-a395-557154e9e6e2",
   "metadata": {},
   "outputs": [],
   "source": [
    "#ws.table_fragments[0][0]"
   ]
  },
  {
   "cell_type": "code",
   "execution_count": 16,
   "id": "91d3d4b4-d338-4a61-ac39-c868257f126e",
   "metadata": {},
   "outputs": [
    {
     "name": "stdout",
     "output_type": "stream",
     "text": [
      "CHECK: http://34.122.80.213:5000/Node_1.html\n",
      "TODO: ['http://34.122.80.213:5000/Node_2.html', 'http://34.122.80.213:5000/Node_4.html']\n",
      "CHECK: http://34.122.80.213:5000/Node_2.html\n",
      "TODO: ['http://34.122.80.213:5000/Node_4.html', 'http://34.122.80.213:5000/Node_3.html', 'http://34.122.80.213:5000/Node_5.html']\n",
      "CHECK: http://34.122.80.213:5000/Node_4.html\n",
      "TODO: ['http://34.122.80.213:5000/Node_3.html', 'http://34.122.80.213:5000/Node_5.html', 'http://34.122.80.213:5000/Node_6.html', 'http://34.122.80.213:5000/Node_7.html']\n",
      "CHECK: http://34.122.80.213:5000/Node_3.html\n",
      "TODO: ['http://34.122.80.213:5000/Node_5.html', 'http://34.122.80.213:5000/Node_6.html', 'http://34.122.80.213:5000/Node_7.html']\n",
      "CHECK: http://34.122.80.213:5000/Node_5.html\n",
      "TODO: ['http://34.122.80.213:5000/Node_6.html', 'http://34.122.80.213:5000/Node_7.html']\n",
      "CHECK: http://34.122.80.213:5000/Node_6.html\n",
      "TODO: ['http://34.122.80.213:5000/Node_7.html']\n",
      "CHECK: http://34.122.80.213:5000/Node_7.html\n",
      "TODO: []\n"
     ]
    },
    {
     "data": {
      "text/plain": [
       "['http://34.122.80.213:5000/Node_1.html',\n",
       " 'http://34.122.80.213:5000/Node_2.html',\n",
       " 'http://34.122.80.213:5000/Node_4.html',\n",
       " 'http://34.122.80.213:5000/Node_3.html',\n",
       " 'http://34.122.80.213:5000/Node_5.html',\n",
       " 'http://34.122.80.213:5000/Node_6.html',\n",
       " 'http://34.122.80.213:5000/Node_7.html']"
      ]
     },
     "execution_count": 16,
     "metadata": {},
     "output_type": "execute_result"
    }
   ],
   "source": [
    "url = \"http://34.122.80.213:5000/Node_1.html\"\n",
    "\n",
    "ws = scrape.WebSearcher(driver)\n",
    "ws.bfs_search(url)\n",
    "ws.order"
   ]
  },
  {
   "cell_type": "code",
   "execution_count": null,
   "id": "2e47e567-77ed-483a-aa44-79aeb8384978",
   "metadata": {},
   "outputs": [],
   "source": [
    "driver.close()"
   ]
  }
 ],
 "metadata": {
  "kernelspec": {
   "display_name": "Python 3 (ipykernel)",
   "language": "python",
   "name": "python3"
  },
  "language_info": {
   "codemirror_mode": {
    "name": "ipython",
    "version": 3
   },
   "file_extension": ".py",
   "mimetype": "text/x-python",
   "name": "python",
   "nbconvert_exporter": "python",
   "pygments_lexer": "ipython3",
   "version": "3.10.6"
  }
 },
 "nbformat": 4,
 "nbformat_minor": 5
}
